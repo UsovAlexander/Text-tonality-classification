{
 "cells": [
  {
   "cell_type": "markdown",
   "metadata": {
    "id": "t5-6dtilCVFl"
   },
   "source": [
    "# Text tonality classification (TF-IDF)\n",
    "The online store is launching a new service. Now users can edit and enhance product descriptions, similar to wiki communities. In other words, customers can suggest edits and comment on changes made by others. The store needs a tool that can detect toxic comments and flag them for moderation.\n",
    "\n",
    "Please train a model to classify comments as positive or negative. You have a dataset with annotations indicating the toxicity of the edits.\n",
    "\n",
    "The goal is to build a model with an F1 quality metric score of at least 0.75."
   ]
  },
  {
   "cell_type": "markdown",
   "metadata": {
    "id": "j-uKsd1ICVFp"
   },
   "source": [
    "## Uploading libraries"
   ]
  },
  {
   "cell_type": "code",
   "execution_count": 1,
   "metadata": {
    "colab": {
     "base_uri": "https://localhost:8080/"
    },
    "id": "fSt-QXYGCVFp",
    "outputId": "1c3636d2-82ba-4ea4-94df-ef9d9e84b63f"
   },
   "outputs": [
    {
     "name": "stdout",
     "output_type": "stream",
     "text": [
      "Requirement already satisfied: xgboost in /opt/anaconda3/lib/python3.9/site-packages (1.7.4)\n",
      "Requirement already satisfied: scipy in /opt/anaconda3/lib/python3.9/site-packages (from xgboost) (1.7.3)\n",
      "Requirement already satisfied: numpy in /opt/anaconda3/lib/python3.9/site-packages (from xgboost) (1.21.5)\n"
     ]
    }
   ],
   "source": [
    "!pip install xgboost"
   ]
  },
  {
   "cell_type": "code",
   "execution_count": 2,
   "metadata": {
    "colab": {
     "base_uri": "https://localhost:8080/"
    },
    "id": "zLV-Rx5QCVFq",
    "outputId": "291e664a-247f-4c29-a3de-a5f9f59765a2",
    "scrolled": true
   },
   "outputs": [
    {
     "name": "stdout",
     "output_type": "stream",
     "text": [
      "Requirement already satisfied: catboost in /opt/anaconda3/lib/python3.9/site-packages (1.2)\n",
      "Requirement already satisfied: scipy in /opt/anaconda3/lib/python3.9/site-packages (from catboost) (1.7.3)\n",
      "Requirement already satisfied: numpy>=1.16.0 in /opt/anaconda3/lib/python3.9/site-packages (from catboost) (1.21.5)\n",
      "Requirement already satisfied: matplotlib in /opt/anaconda3/lib/python3.9/site-packages (from catboost) (3.5.1)\n",
      "Requirement already satisfied: six in /opt/anaconda3/lib/python3.9/site-packages (from catboost) (1.16.0)\n",
      "Requirement already satisfied: graphviz in /opt/anaconda3/lib/python3.9/site-packages (from catboost) (0.20.1)\n",
      "Requirement already satisfied: plotly in /opt/anaconda3/lib/python3.9/site-packages (from catboost) (5.6.0)\n",
      "Requirement already satisfied: pandas>=0.24 in /opt/anaconda3/lib/python3.9/site-packages (from catboost) (1.4.2)\n",
      "Requirement already satisfied: python-dateutil>=2.8.1 in /opt/anaconda3/lib/python3.9/site-packages (from pandas>=0.24->catboost) (2.8.2)\n",
      "Requirement already satisfied: pytz>=2020.1 in /opt/anaconda3/lib/python3.9/site-packages (from pandas>=0.24->catboost) (2021.3)\n",
      "Requirement already satisfied: cycler>=0.10 in /opt/anaconda3/lib/python3.9/site-packages (from matplotlib->catboost) (0.11.0)\n",
      "Requirement already satisfied: packaging>=20.0 in /opt/anaconda3/lib/python3.9/site-packages (from matplotlib->catboost) (21.3)\n",
      "Requirement already satisfied: fonttools>=4.22.0 in /opt/anaconda3/lib/python3.9/site-packages (from matplotlib->catboost) (4.25.0)\n",
      "Requirement already satisfied: pyparsing>=2.2.1 in /opt/anaconda3/lib/python3.9/site-packages (from matplotlib->catboost) (3.0.4)\n",
      "Requirement already satisfied: pillow>=6.2.0 in /opt/anaconda3/lib/python3.9/site-packages (from matplotlib->catboost) (9.0.1)\n",
      "Requirement already satisfied: kiwisolver>=1.0.1 in /opt/anaconda3/lib/python3.9/site-packages (from matplotlib->catboost) (1.4.2)\n",
      "Requirement already satisfied: tenacity>=6.2.0 in /opt/anaconda3/lib/python3.9/site-packages (from plotly->catboost) (8.0.1)\n"
     ]
    }
   ],
   "source": [
    "!pip install catboost"
   ]
  },
  {
   "cell_type": "code",
   "execution_count": 3,
   "metadata": {
    "id": "vB1XEZQcCVFr"
   },
   "outputs": [],
   "source": [
    "!pip install -Uq spacy"
   ]
  },
  {
   "cell_type": "code",
   "execution_count": 4,
   "metadata": {
    "id": "pauELGI2CVFr"
   },
   "outputs": [],
   "source": [
    "import pandas as pd\n",
    "import numpy as np\n",
    "import matplotlib.pyplot as plt\n",
    "import nltk\n",
    "from nltk.corpus import stopwords as nltk_stopwords\n",
    "from nltk.stem import WordNetLemmatizer\n",
    "from nltk.corpus import wordnet\n",
    "import re\n",
    "import spacy\n",
    "\n",
    "from sklearn.feature_extraction.text import TfidfVectorizer \n",
    "from sklearn.metrics import f1_score, ConfusionMatrixDisplay, confusion_matrix, RocCurveDisplay\n",
    "from sklearn.model_selection import train_test_split, GridSearchCV\n",
    "from imblearn.pipeline import Pipeline\n",
    "from imblearn.under_sampling import RandomUnderSampler\n",
    "from sklearn.linear_model import LogisticRegression\n",
    "from sklearn.linear_model import RidgeClassifier\n",
    "from sklearn.svm import SVC\n",
    "from catboost import CatBoostClassifier\n",
    "\n",
    "from tqdm import tqdm\n",
    "import warnings\n",
    "warnings.filterwarnings('ignore')\n",
    "RANDOM_STATE = 42"
   ]
  },
  {
   "cell_type": "markdown",
   "metadata": {
    "id": "zz1vL6lcDH8R"
   },
   "source": [
    "## Preparation of data"
   ]
  },
  {
   "cell_type": "code",
   "execution_count": 5,
   "metadata": {
    "id": "TFASthWcCVFr"
   },
   "outputs": [],
   "source": [
    "df = pd.read_csv('https://code.s3.yandex.net/datasets/toxic_comments.csv')"
   ]
  },
  {
   "cell_type": "code",
   "execution_count": 6,
   "metadata": {
    "colab": {
     "base_uri": "https://localhost:8080/"
    },
    "id": "pAmk_jqICVFs",
    "outputId": "dccd9e0a-09ad-44f4-e6c5-b2741d248229"
   },
   "outputs": [
    {
     "data": {
      "text/plain": [
       "Unnamed: 0    0\n",
       "text          0\n",
       "toxic         0\n",
       "dtype: int64"
      ]
     },
     "execution_count": 6,
     "metadata": {},
     "output_type": "execute_result"
    }
   ],
   "source": [
    "df.isna().sum()"
   ]
  },
  {
   "cell_type": "code",
   "execution_count": 7,
   "metadata": {
    "colab": {
     "base_uri": "https://localhost:8080/"
    },
    "id": "-sIfDinDCVFu",
    "outputId": "09e4f95c-2eb7-47b4-e8e5-9f29b338bd86",
    "scrolled": true
   },
   "outputs": [
    {
     "data": {
      "text/plain": [
       "0"
      ]
     },
     "execution_count": 7,
     "metadata": {},
     "output_type": "execute_result"
    }
   ],
   "source": [
    "df.duplicated().sum()"
   ]
  },
  {
   "cell_type": "markdown",
   "metadata": {
    "id": "PltcN18jCVFv"
   },
   "source": [
    "There are no omissions and duplicates."
   ]
  },
  {
   "cell_type": "code",
   "execution_count": 8,
   "metadata": {
    "colab": {
     "base_uri": "https://localhost:8080/"
    },
    "id": "EXTeRy2oCVF0",
    "outputId": "7dfb04b4-155e-44fb-843a-e29541b27696"
   },
   "outputs": [
    {
     "name": "stderr",
     "output_type": "stream",
     "text": [
      "[nltk_data] Downloading package wordnet to\n",
      "[nltk_data]     /Users/alexander/nltk_data...\n",
      "[nltk_data]   Package wordnet is already up-to-date!\n",
      "[nltk_data] Downloading package punkt to /Users/alexander/nltk_data...\n",
      "[nltk_data]   Package punkt is already up-to-date!\n",
      "[nltk_data] Downloading package stopwords to\n",
      "[nltk_data]     /Users/alexander/nltk_data...\n",
      "[nltk_data]   Package stopwords is already up-to-date!\n",
      "[nltk_data] Downloading package omw-1.4 to\n",
      "[nltk_data]     /Users/alexander/nltk_data...\n",
      "[nltk_data]   Package omw-1.4 is already up-to-date!\n",
      "[nltk_data] Downloading package averaged_perceptron_tagger to\n",
      "[nltk_data]     /Users/alexander/nltk_data...\n",
      "[nltk_data]   Package averaged_perceptron_tagger is already up-to-\n",
      "[nltk_data]       date!\n"
     ]
    },
    {
     "data": {
      "text/plain": [
       "True"
      ]
     },
     "execution_count": 8,
     "metadata": {},
     "output_type": "execute_result"
    }
   ],
   "source": [
    "nltk.download('wordnet')\n",
    "nltk.download('punkt')\n",
    "nltk.download('stopwords')\n",
    "nltk.download('omw-1.4')\n",
    "nltk.download('averaged_perceptron_tagger')"
   ]
  },
  {
   "cell_type": "markdown",
   "metadata": {
    "id": "aLZuBWKoCVF1"
   },
   "source": [
    "Let's write a function for lemmatization and clearing of unnecessary characters."
   ]
  },
  {
   "cell_type": "code",
   "execution_count": 9,
   "metadata": {
    "id": "rdPh8hUmCVF1"
   },
   "outputs": [],
   "source": [
    "nlp = spacy.load('en_core_web_sm', disable=['parser', 'ner'])\n",
    "\n",
    "def lemmatize(text):\n",
    "    global nlp\n",
    "    text = (re.sub(r'[^a-z]', ' ', text.lower()))\n",
    "    doc = nlp(text)\n",
    "    return \" \".join([token.lemma_ for token in doc])"
   ]
  },
  {
   "cell_type": "code",
   "execution_count": 10,
   "metadata": {
    "colab": {
     "base_uri": "https://localhost:8080/"
    },
    "id": "NN6JvmKYCVF1",
    "outputId": "6030ce7b-ffdc-4be7-ea2d-2203735f2df5"
   },
   "outputs": [
    {
     "name": "stderr",
     "output_type": "stream",
     "text": [
      "100%|██████████████████████████████████| 159292/159292 [17:38<00:00, 150.46it/s]"
     ]
    },
    {
     "name": "stdout",
     "output_type": "stream",
     "text": [
      "CPU times: user 15min 10s, sys: 8.69 s, total: 15min 19s\n",
      "Wall time: 17min 38s\n"
     ]
    },
    {
     "name": "stderr",
     "output_type": "stream",
     "text": [
      "\n"
     ]
    }
   ],
   "source": [
    "%%time\n",
    "tqdm.pandas()\n",
    "df['lemma_s'] = df['text'].progress_apply(lemmatize)"
   ]
  },
  {
   "cell_type": "markdown",
   "metadata": {
    "id": "DR92D93DEFjQ"
   },
   "source": [
    "Lemmatization was successful."
   ]
  },
  {
   "cell_type": "code",
   "execution_count": 11,
   "metadata": {
    "colab": {
     "base_uri": "https://localhost:8080/",
     "height": 206
    },
    "id": "ZPDX9h2GCVF9",
    "outputId": "9aa6b088-00f3-4379-e964-4390cfda1687",
    "scrolled": true
   },
   "outputs": [
    {
     "data": {
      "text/html": [
       "<div>\n",
       "<style scoped>\n",
       "    .dataframe tbody tr th:only-of-type {\n",
       "        vertical-align: middle;\n",
       "    }\n",
       "\n",
       "    .dataframe tbody tr th {\n",
       "        vertical-align: top;\n",
       "    }\n",
       "\n",
       "    .dataframe thead th {\n",
       "        text-align: right;\n",
       "    }\n",
       "</style>\n",
       "<table border=\"1\" class=\"dataframe\">\n",
       "  <thead>\n",
       "    <tr style=\"text-align: right;\">\n",
       "      <th></th>\n",
       "      <th>Unnamed: 0</th>\n",
       "      <th>text</th>\n",
       "      <th>toxic</th>\n",
       "      <th>lemma_s</th>\n",
       "    </tr>\n",
       "  </thead>\n",
       "  <tbody>\n",
       "    <tr>\n",
       "      <th>0</th>\n",
       "      <td>0</td>\n",
       "      <td>Explanation\\nWhy the edits made under my usern...</td>\n",
       "      <td>0</td>\n",
       "      <td>explanation why the edit make under my usernam...</td>\n",
       "    </tr>\n",
       "    <tr>\n",
       "      <th>1</th>\n",
       "      <td>1</td>\n",
       "      <td>D'aww! He matches this background colour I'm s...</td>\n",
       "      <td>0</td>\n",
       "      <td>d aww   he match this background colour I m se...</td>\n",
       "    </tr>\n",
       "    <tr>\n",
       "      <th>2</th>\n",
       "      <td>2</td>\n",
       "      <td>Hey man, I'm really not trying to edit war. It...</td>\n",
       "      <td>0</td>\n",
       "      <td>hey man   I m really not try to edit war   it ...</td>\n",
       "    </tr>\n",
       "    <tr>\n",
       "      <th>3</th>\n",
       "      <td>3</td>\n",
       "      <td>\"\\nMore\\nI can't make any real suggestions on ...</td>\n",
       "      <td>0</td>\n",
       "      <td>more I can t make any real suggestion on im...</td>\n",
       "    </tr>\n",
       "    <tr>\n",
       "      <th>4</th>\n",
       "      <td>4</td>\n",
       "      <td>You, sir, are my hero. Any chance you remember...</td>\n",
       "      <td>0</td>\n",
       "      <td>you   sir   be my hero   any chance you rememb...</td>\n",
       "    </tr>\n",
       "  </tbody>\n",
       "</table>\n",
       "</div>"
      ],
      "text/plain": [
       "   Unnamed: 0                                               text  toxic  \\\n",
       "0           0  Explanation\\nWhy the edits made under my usern...      0   \n",
       "1           1  D'aww! He matches this background colour I'm s...      0   \n",
       "2           2  Hey man, I'm really not trying to edit war. It...      0   \n",
       "3           3  \"\\nMore\\nI can't make any real suggestions on ...      0   \n",
       "4           4  You, sir, are my hero. Any chance you remember...      0   \n",
       "\n",
       "                                             lemma_s  \n",
       "0  explanation why the edit make under my usernam...  \n",
       "1  d aww   he match this background colour I m se...  \n",
       "2  hey man   I m really not try to edit war   it ...  \n",
       "3     more I can t make any real suggestion on im...  \n",
       "4  you   sir   be my hero   any chance you rememb...  "
      ]
     },
     "execution_count": 11,
     "metadata": {},
     "output_type": "execute_result"
    }
   ],
   "source": [
    "df.head()"
   ]
  },
  {
   "cell_type": "markdown",
   "metadata": {
    "id": "kujfrpXrEd6l"
   },
   "source": [
    "Uploading stop words."
   ]
  },
  {
   "cell_type": "code",
   "execution_count": 12,
   "metadata": {
    "id": "-appGriTCVF9"
   },
   "outputs": [],
   "source": [
    "stopwords = list(nltk_stopwords.words('english'))"
   ]
  },
  {
   "cell_type": "markdown",
   "metadata": {
    "id": "7APcc2VICVF9"
   },
   "source": [
    "Let's divide the data frame into training and test samples."
   ]
  },
  {
   "cell_type": "code",
   "execution_count": 13,
   "metadata": {
    "id": "xBElKO6jCVF-"
   },
   "outputs": [],
   "source": [
    "X_train, X_test, y_train, y_test = train_test_split(df['lemma_s'], df['toxic'], test_size=0.3, \n",
    "                                                    shuffle=True, stratify=df['toxic'],random_state=RANDOM_STATE)"
   ]
  },
  {
   "cell_type": "code",
   "execution_count": 14,
   "metadata": {
    "colab": {
     "base_uri": "https://localhost:8080/"
    },
    "id": "SKayMtQzCVF-",
    "outputId": "ff4d4552-b1eb-4d0b-ee59-163e3071cab5",
    "scrolled": true
   },
   "outputs": [
    {
     "data": {
      "text/plain": [
       "0    0.898388\n",
       "1    0.101612\n",
       "Name: toxic, dtype: float64"
      ]
     },
     "execution_count": 14,
     "metadata": {},
     "output_type": "execute_result"
    }
   ],
   "source": [
    "df['toxic'].value_counts(normalize=True)"
   ]
  },
  {
   "cell_type": "markdown",
   "metadata": {
    "id": "snMk7gTnCVF-"
   },
   "source": [
    "By applying the value_counts function, we see that we have a strong class imbalance. We will train models by weighing classes with internal methods."
   ]
  },
  {
   "cell_type": "markdown",
   "metadata": {
    "id": "drMz62BfCVF-"
   },
   "source": [
    "## Building and training models"
   ]
  },
  {
   "cell_type": "markdown",
   "metadata": {
    "id": "8cMah5YACVF-"
   },
   "source": [
    "We will convert the text into TF-IDF vectors within a Pipeline and train different algorithms using built-in methods for class weighting."
   ]
  },
  {
   "cell_type": "markdown",
   "metadata": {
    "id": "qPUt10DTCVF-"
   },
   "source": [
    "### Class weight"
   ]
  },
  {
   "cell_type": "markdown",
   "metadata": {
    "id": "zoBwSdkQCVF-"
   },
   "source": [
    "#### LogisticRegression"
   ]
  },
  {
   "cell_type": "code",
   "execution_count": 20,
   "metadata": {
    "id": "Y77qTYYXCVF-"
   },
   "outputs": [
    {
     "data": {
      "text/html": [
       "<div>\n",
       "<style scoped>\n",
       "    .dataframe tbody tr th:only-of-type {\n",
       "        vertical-align: middle;\n",
       "    }\n",
       "\n",
       "    .dataframe tbody tr th {\n",
       "        vertical-align: top;\n",
       "    }\n",
       "\n",
       "    .dataframe thead th {\n",
       "        text-align: right;\n",
       "    }\n",
       "</style>\n",
       "<table border=\"1\" class=\"dataframe\">\n",
       "  <thead>\n",
       "    <tr style=\"text-align: right;\">\n",
       "      <th></th>\n",
       "      <th>mean_fit_time</th>\n",
       "      <th>params</th>\n",
       "      <th>mean_test_score</th>\n",
       "    </tr>\n",
       "  </thead>\n",
       "  <tbody>\n",
       "    <tr>\n",
       "      <th>19</th>\n",
       "      <td>7.994759</td>\n",
       "      <td>{'clf__C': 10.0, 'clf__max_iter': 2500}</td>\n",
       "      <td>0.764269</td>\n",
       "    </tr>\n",
       "  </tbody>\n",
       "</table>\n",
       "</div>"
      ],
      "text/plain": [
       "    mean_fit_time                                   params  mean_test_score\n",
       "19       7.994759  {'clf__C': 10.0, 'clf__max_iter': 2500}         0.764269"
      ]
     },
     "execution_count": 20,
     "metadata": {},
     "output_type": "execute_result"
    }
   ],
   "source": [
    "pipeline_lg = Pipeline(\n",
    "    [\n",
    "        (\"vect\", TfidfVectorizer(stop_words=stopwords)),\n",
    "        (\"clf\", LogisticRegression(class_weight='balanced', random_state=RANDOM_STATE)),\n",
    "    ]\n",
    ")\n",
    "params_lg = {'clf__C': np.logspace(-3,3,7),\n",
    "            'clf__max_iter': [1000, 1500, 2000, 2500]}\n",
    "            \n",
    "grid_lg = GridSearchCV(pipeline_lg, param_grid=params_lg, cv=3, scoring='f1', n_jobs=-1)\n",
    "grid_lg.fit(X_train, y_train)\n",
    "best_result_lg = pd.DataFrame(grid_lg.cv_results_).sort_values('rank_test_score').head(1)\n",
    "best_result_lg = best_result_lg[['mean_fit_time', 'params', 'mean_test_score']]\n",
    "best_result_lg"
   ]
  },
  {
   "cell_type": "markdown",
   "metadata": {
    "id": "edyOzwDvCVF_"
   },
   "source": [
    "#### RidgeClassifier"
   ]
  },
  {
   "cell_type": "code",
   "execution_count": 16,
   "metadata": {
    "colab": {
     "base_uri": "https://localhost:8080/",
     "height": 81
    },
    "id": "bXAJNmi5CVF_",
    "outputId": "7784c090-cd43-41c3-c838-58b5839c17de"
   },
   "outputs": [
    {
     "data": {
      "text/html": [
       "<div>\n",
       "<style scoped>\n",
       "    .dataframe tbody tr th:only-of-type {\n",
       "        vertical-align: middle;\n",
       "    }\n",
       "\n",
       "    .dataframe tbody tr th {\n",
       "        vertical-align: top;\n",
       "    }\n",
       "\n",
       "    .dataframe thead th {\n",
       "        text-align: right;\n",
       "    }\n",
       "</style>\n",
       "<table border=\"1\" class=\"dataframe\">\n",
       "  <thead>\n",
       "    <tr style=\"text-align: right;\">\n",
       "      <th></th>\n",
       "      <th>mean_fit_time</th>\n",
       "      <th>params</th>\n",
       "      <th>mean_test_score</th>\n",
       "    </tr>\n",
       "  </thead>\n",
       "  <tbody>\n",
       "    <tr>\n",
       "      <th>8</th>\n",
       "      <td>2.153194</td>\n",
       "      <td>{'clf__alpha': 9}</td>\n",
       "      <td>0.710685</td>\n",
       "    </tr>\n",
       "  </tbody>\n",
       "</table>\n",
       "</div>"
      ],
      "text/plain": [
       "   mean_fit_time             params  mean_test_score\n",
       "8       2.153194  {'clf__alpha': 9}         0.710685"
      ]
     },
     "execution_count": 16,
     "metadata": {},
     "output_type": "execute_result"
    }
   ],
   "source": [
    "pipeline_rd = Pipeline(\n",
    "    [\n",
    "        (\"vect\", TfidfVectorizer(stop_words=stopwords)),\n",
    "        (\"clf\", RidgeClassifier(class_weight='balanced', random_state=RANDOM_STATE)),\n",
    "    ]\n",
    ")\n",
    "\n",
    "params_rd = {'clf__alpha': range(1, 10)}\n",
    "\n",
    "grid_rd = GridSearchCV(pipeline_rd, param_grid=params_rd, cv=3, scoring='f1', n_jobs=-1)\n",
    "grid_rd.fit(X_train, y_train)\n",
    "best_result_rd = pd.DataFrame(grid_rd.cv_results_).sort_values('rank_test_score').head(1)\n",
    "best_result_rd = best_result_rd[['mean_fit_time', 'params', 'mean_test_score']]\n",
    "best_result_rd"
   ]
  },
  {
   "cell_type": "markdown",
   "metadata": {
    "id": "K2fbUs90CVGA"
   },
   "source": [
    "#### SVC"
   ]
  },
  {
   "cell_type": "code",
   "execution_count": 21,
   "metadata": {
    "colab": {
     "base_uri": "https://localhost:8080/",
     "height": 389
    },
    "id": "XVq2pVhlCVGA",
    "outputId": "625b79a0-7f26-48b5-ff9a-1ecbe2a8e64e"
   },
   "outputs": [
    {
     "data": {
      "text/html": [
       "<div>\n",
       "<style scoped>\n",
       "    .dataframe tbody tr th:only-of-type {\n",
       "        vertical-align: middle;\n",
       "    }\n",
       "\n",
       "    .dataframe tbody tr th {\n",
       "        vertical-align: top;\n",
       "    }\n",
       "\n",
       "    .dataframe thead th {\n",
       "        text-align: right;\n",
       "    }\n",
       "</style>\n",
       "<table border=\"1\" class=\"dataframe\">\n",
       "  <thead>\n",
       "    <tr style=\"text-align: right;\">\n",
       "      <th></th>\n",
       "      <th>mean_fit_time</th>\n",
       "      <th>params</th>\n",
       "      <th>mean_test_score</th>\n",
       "    </tr>\n",
       "  </thead>\n",
       "  <tbody>\n",
       "    <tr>\n",
       "      <th>12</th>\n",
       "      <td>1945.626094</td>\n",
       "      <td>{'clf__C': 1, 'clf__gamma': 1, 'clf__kernel': ...</td>\n",
       "      <td>0.780259</td>\n",
       "    </tr>\n",
       "  </tbody>\n",
       "</table>\n",
       "</div>"
      ],
      "text/plain": [
       "    mean_fit_time                                             params  \\\n",
       "12    1945.626094  {'clf__C': 1, 'clf__gamma': 1, 'clf__kernel': ...   \n",
       "\n",
       "    mean_test_score  \n",
       "12         0.780259  "
      ]
     },
     "execution_count": 21,
     "metadata": {},
     "output_type": "execute_result"
    }
   ],
   "source": [
    "pipeline_svc = Pipeline(\n",
    "    [\n",
    "        (\"vect\", TfidfVectorizer(stop_words=stopwords)),\n",
    "        (\"clf\", SVC(class_weight='balanced', random_state=RANDOM_STATE)),\n",
    "    ]\n",
    ")\n",
    "params_svc = {'clf__C': [0.1, 1, 10, 100],\n",
    "              'clf__gamma': [ 1, 0.1, 0.01, 0.001],\n",
    "              'clf__kernel': ['rbf', 'poly', 'sigmoid']}\n",
    "grid_svc = GridSearchCV(pipeline_svc, param_grid=params_svc, cv=3,  scoring='f1', n_jobs=-1)\n",
    "\n",
    "grid_svc.fit(X_train, y_train)\n",
    "best_result_svc = pd.DataFrame(grid_svc.cv_results_).sort_values('rank_test_score').head(1)\n",
    "best_result_svc = best_result_svc[['mean_fit_time', 'params', 'mean_test_score']]\n",
    "best_result_svc"
   ]
  },
  {
   "cell_type": "markdown",
   "metadata": {
    "id": "xSyhSWFMCVGA"
   },
   "source": [
    "#### CatBoostClassifier"
   ]
  },
  {
   "cell_type": "code",
   "execution_count": 22,
   "metadata": {
    "id": "74qHtXqcCVGE"
   },
   "outputs": [
    {
     "data": {
      "text/html": [
       "<div>\n",
       "<style scoped>\n",
       "    .dataframe tbody tr th:only-of-type {\n",
       "        vertical-align: middle;\n",
       "    }\n",
       "\n",
       "    .dataframe tbody tr th {\n",
       "        vertical-align: top;\n",
       "    }\n",
       "\n",
       "    .dataframe thead th {\n",
       "        text-align: right;\n",
       "    }\n",
       "</style>\n",
       "<table border=\"1\" class=\"dataframe\">\n",
       "  <thead>\n",
       "    <tr style=\"text-align: right;\">\n",
       "      <th></th>\n",
       "      <th>mean_fit_time</th>\n",
       "      <th>params</th>\n",
       "      <th>mean_test_score</th>\n",
       "    </tr>\n",
       "  </thead>\n",
       "  <tbody>\n",
       "    <tr>\n",
       "      <th>1</th>\n",
       "      <td>39114.484902</td>\n",
       "      <td>{'clf__max_depth': 10, 'clf__n_estimators': 2000}</td>\n",
       "      <td>0.774215</td>\n",
       "    </tr>\n",
       "  </tbody>\n",
       "</table>\n",
       "</div>"
      ],
      "text/plain": [
       "   mean_fit_time                                             params  \\\n",
       "1   39114.484902  {'clf__max_depth': 10, 'clf__n_estimators': 2000}   \n",
       "\n",
       "   mean_test_score  \n",
       "1         0.774215  "
      ]
     },
     "execution_count": 22,
     "metadata": {},
     "output_type": "execute_result"
    }
   ],
   "source": [
    "pipeline_ctbc = Pipeline(\n",
    "    [\n",
    "        (\"vect\", TfidfVectorizer(stop_words=stopwords)),\n",
    "        (\"clf\", CatBoostClassifier(auto_class_weights='Balanced', random_state=RANDOM_STATE, verbose=False)),\n",
    "    ]\n",
    ")\n",
    "params_cb = {'clf__max_depth': range(10, 30, 50),\n",
    "         'clf__n_estimators': range(1000, 3001, 1000)}\n",
    "\n",
    "grid_ctbc = GridSearchCV(pipeline_ctbc, param_grid=params_cb, cv=3, scoring='f1', n_jobs=-1)\n",
    "grid_ctbc.fit(X_train, y_train)\n",
    "best_result_ctbc = pd.DataFrame(grid_ctbc.cv_results_).sort_values('rank_test_score').head(1)\n",
    "best_result_ctbc = best_result_ctbc[['mean_fit_time', 'params', 'mean_test_score']]\n",
    "best_result_ctbc"
   ]
  },
  {
   "cell_type": "code",
   "execution_count": 24,
   "metadata": {
    "id": "QuZUHpNYCVGF",
    "scrolled": false
   },
   "outputs": [
    {
     "data": {
      "text/html": [
       "<div>\n",
       "<style scoped>\n",
       "    .dataframe tbody tr th:only-of-type {\n",
       "        vertical-align: middle;\n",
       "    }\n",
       "\n",
       "    .dataframe tbody tr th {\n",
       "        vertical-align: top;\n",
       "    }\n",
       "\n",
       "    .dataframe thead th {\n",
       "        text-align: right;\n",
       "    }\n",
       "</style>\n",
       "<table border=\"1\" class=\"dataframe\">\n",
       "  <thead>\n",
       "    <tr style=\"text-align: right;\">\n",
       "      <th></th>\n",
       "      <th>mean_fit_time</th>\n",
       "      <th>params</th>\n",
       "      <th>mean_test_score</th>\n",
       "    </tr>\n",
       "  </thead>\n",
       "  <tbody>\n",
       "    <tr>\n",
       "      <th>LogisticRegression</th>\n",
       "      <td>7.994759</td>\n",
       "      <td>{'clf__C': 10.0, 'clf__max_iter': 2500}</td>\n",
       "      <td>0.764269</td>\n",
       "    </tr>\n",
       "    <tr>\n",
       "      <th>RandomForestClassifier</th>\n",
       "      <td>2.153194</td>\n",
       "      <td>{'clf__alpha': 9}</td>\n",
       "      <td>0.710685</td>\n",
       "    </tr>\n",
       "    <tr>\n",
       "      <th>SVC</th>\n",
       "      <td>1945.626094</td>\n",
       "      <td>{'clf__C': 1, 'clf__gamma': 1, 'clf__kernel': ...</td>\n",
       "      <td>0.780259</td>\n",
       "    </tr>\n",
       "    <tr>\n",
       "      <th>CatBoostClassifier</th>\n",
       "      <td>39114.484902</td>\n",
       "      <td>{'clf__max_depth': 10, 'clf__n_estimators': 2000}</td>\n",
       "      <td>0.774215</td>\n",
       "    </tr>\n",
       "  </tbody>\n",
       "</table>\n",
       "</div>"
      ],
      "text/plain": [
       "                        mean_fit_time  \\\n",
       "LogisticRegression           7.994759   \n",
       "RandomForestClassifier       2.153194   \n",
       "SVC                       1945.626094   \n",
       "CatBoostClassifier       39114.484902   \n",
       "\n",
       "                                                                   params  \\\n",
       "LogisticRegression                {'clf__C': 10.0, 'clf__max_iter': 2500}   \n",
       "RandomForestClassifier                                  {'clf__alpha': 9}   \n",
       "SVC                     {'clf__C': 1, 'clf__gamma': 1, 'clf__kernel': ...   \n",
       "CatBoostClassifier      {'clf__max_depth': 10, 'clf__n_estimators': 2000}   \n",
       "\n",
       "                        mean_test_score  \n",
       "LogisticRegression             0.764269  \n",
       "RandomForestClassifier         0.710685  \n",
       "SVC                            0.780259  \n",
       "CatBoostClassifier             0.774215  "
      ]
     },
     "execution_count": 24,
     "metadata": {},
     "output_type": "execute_result"
    }
   ],
   "source": [
    "result = pd.concat([best_result_lg, best_result_rd, best_result_svc, best_result_ctbc])\n",
    "result.index = ['LogisticRegression', 'RandomForestClassifier', \n",
    "                'SVC', 'CatBoostClassifier']\n",
    "result"
   ]
  },
  {
   "cell_type": "markdown",
   "metadata": {
    "id": "LorwviBWCVGF"
   },
   "source": [
    "Three models achieved scores higher than the specified threshold on the training dataset. The training time for boosting algorithms is very high, so we can apply undersampling methods using the majority class."
   ]
  },
  {
   "cell_type": "markdown",
   "metadata": {
    "id": "ktrC7a8tCVGF"
   },
   "source": [
    "### Undersampling"
   ]
  },
  {
   "cell_type": "markdown",
   "metadata": {},
   "source": [
    "Let's upload undersampling model and add it into Pipeline."
   ]
  },
  {
   "cell_type": "code",
   "execution_count": 28,
   "metadata": {
    "id": "w4OH78E3CVGF"
   },
   "outputs": [],
   "source": [
    "rus = RandomUnderSampler(random_state=RANDOM_STATE)"
   ]
  },
  {
   "cell_type": "markdown",
   "metadata": {
    "id": "NN461k9mCVGF"
   },
   "source": [
    "#### LogisticRegression"
   ]
  },
  {
   "cell_type": "code",
   "execution_count": 32,
   "metadata": {
    "id": "k_aNCRqqCVGG"
   },
   "outputs": [
    {
     "data": {
      "text/html": [
       "<div>\n",
       "<style scoped>\n",
       "    .dataframe tbody tr th:only-of-type {\n",
       "        vertical-align: middle;\n",
       "    }\n",
       "\n",
       "    .dataframe tbody tr th {\n",
       "        vertical-align: top;\n",
       "    }\n",
       "\n",
       "    .dataframe thead th {\n",
       "        text-align: right;\n",
       "    }\n",
       "</style>\n",
       "<table border=\"1\" class=\"dataframe\">\n",
       "  <thead>\n",
       "    <tr style=\"text-align: right;\">\n",
       "      <th></th>\n",
       "      <th>mean_fit_time</th>\n",
       "      <th>params</th>\n",
       "      <th>mean_test_score</th>\n",
       "    </tr>\n",
       "  </thead>\n",
       "  <tbody>\n",
       "    <tr>\n",
       "      <th>13</th>\n",
       "      <td>3.644104</td>\n",
       "      <td>{'clf__C': 1.0, 'clf__max_iter': 1500}</td>\n",
       "      <td>0.691396</td>\n",
       "    </tr>\n",
       "  </tbody>\n",
       "</table>\n",
       "</div>"
      ],
      "text/plain": [
       "    mean_fit_time                                  params  mean_test_score\n",
       "13       3.644104  {'clf__C': 1.0, 'clf__max_iter': 1500}         0.691396"
      ]
     },
     "execution_count": 32,
     "metadata": {},
     "output_type": "execute_result"
    }
   ],
   "source": [
    "pipeline_lg_us = Pipeline(\n",
    "    [\n",
    "        (\"vect\", TfidfVectorizer(stop_words=stopwords)),\n",
    "        (\"rus\", rus),\n",
    "        (\"clf\", LogisticRegression(random_state=RANDOM_STATE)),\n",
    "    ]\n",
    ")\n",
    "\n",
    "grid_lg_us = GridSearchCV(pipeline_lg_us, param_grid=params_lg, cv=3, scoring='f1', n_jobs=-1)\n",
    "\n",
    "grid_lg_us.fit(X_train, y_train)\n",
    "best_result_lg_us = pd.DataFrame(grid_lg_us.cv_results_).sort_values('rank_test_score').head(1)\n",
    "best_result_lg_us = best_result_lg_us[['mean_fit_time', 'params', 'mean_test_score']]\n",
    "best_result_lg_us"
   ]
  },
  {
   "cell_type": "markdown",
   "metadata": {
    "id": "WzY1HIIgCVGJ"
   },
   "source": [
    "#### RidgeClassifier"
   ]
  },
  {
   "cell_type": "code",
   "execution_count": 33,
   "metadata": {
    "id": "uaY8FCNuCVGJ"
   },
   "outputs": [
    {
     "data": {
      "text/html": [
       "<div>\n",
       "<style scoped>\n",
       "    .dataframe tbody tr th:only-of-type {\n",
       "        vertical-align: middle;\n",
       "    }\n",
       "\n",
       "    .dataframe tbody tr th {\n",
       "        vertical-align: top;\n",
       "    }\n",
       "\n",
       "    .dataframe thead th {\n",
       "        text-align: right;\n",
       "    }\n",
       "</style>\n",
       "<table border=\"1\" class=\"dataframe\">\n",
       "  <thead>\n",
       "    <tr style=\"text-align: right;\">\n",
       "      <th></th>\n",
       "      <th>mean_fit_time</th>\n",
       "      <th>params</th>\n",
       "      <th>mean_test_score</th>\n",
       "    </tr>\n",
       "  </thead>\n",
       "  <tbody>\n",
       "    <tr>\n",
       "      <th>8</th>\n",
       "      <td>2.0435</td>\n",
       "      <td>{'clf__alpha': 9}</td>\n",
       "      <td>0.672335</td>\n",
       "    </tr>\n",
       "  </tbody>\n",
       "</table>\n",
       "</div>"
      ],
      "text/plain": [
       "   mean_fit_time             params  mean_test_score\n",
       "8         2.0435  {'clf__alpha': 9}         0.672335"
      ]
     },
     "execution_count": 33,
     "metadata": {},
     "output_type": "execute_result"
    }
   ],
   "source": [
    "pipeline_rd_us = Pipeline(\n",
    "    [\n",
    "        (\"vect\", TfidfVectorizer(stop_words=stopwords)),\n",
    "        (\"rus\", rus),\n",
    "        (\"clf\", RidgeClassifier(random_state=RANDOM_STATE)),\n",
    "    ]\n",
    ")\n",
    "\n",
    "params_rd = {'clf__alpha': range(1, 10)}\n",
    "\n",
    "grid_rd_us = GridSearchCV(pipeline_rd_us, param_grid=params_rd, cv=3, scoring='f1', n_jobs=-1)\n",
    "grid_rd_us.fit(X_train, y_train)\n",
    "best_result_rd_us = pd.DataFrame(grid_rd_us.cv_results_).sort_values('rank_test_score').head(1)\n",
    "best_result_rd_us = best_result_rd_us[['mean_fit_time', 'params', 'mean_test_score']]\n",
    "best_result_rd_us"
   ]
  },
  {
   "cell_type": "markdown",
   "metadata": {
    "id": "5dye0eiBCVGL"
   },
   "source": [
    "#### SVC"
   ]
  },
  {
   "cell_type": "code",
   "execution_count": 34,
   "metadata": {
    "id": "gcyQ58ReCVGM"
   },
   "outputs": [
    {
     "data": {
      "text/html": [
       "<div>\n",
       "<style scoped>\n",
       "    .dataframe tbody tr th:only-of-type {\n",
       "        vertical-align: middle;\n",
       "    }\n",
       "\n",
       "    .dataframe tbody tr th {\n",
       "        vertical-align: top;\n",
       "    }\n",
       "\n",
       "    .dataframe thead th {\n",
       "        text-align: right;\n",
       "    }\n",
       "</style>\n",
       "<table border=\"1\" class=\"dataframe\">\n",
       "  <thead>\n",
       "    <tr style=\"text-align: right;\">\n",
       "      <th></th>\n",
       "      <th>mean_fit_time</th>\n",
       "      <th>params</th>\n",
       "      <th>mean_test_score</th>\n",
       "    </tr>\n",
       "  </thead>\n",
       "  <tbody>\n",
       "    <tr>\n",
       "      <th>15</th>\n",
       "      <td>34.028267</td>\n",
       "      <td>{'clf__C': 1, 'clf__gamma': 0.1, 'clf__kernel'...</td>\n",
       "      <td>0.716424</td>\n",
       "    </tr>\n",
       "  </tbody>\n",
       "</table>\n",
       "</div>"
      ],
      "text/plain": [
       "    mean_fit_time                                             params  \\\n",
       "15      34.028267  {'clf__C': 1, 'clf__gamma': 0.1, 'clf__kernel'...   \n",
       "\n",
       "    mean_test_score  \n",
       "15         0.716424  "
      ]
     },
     "execution_count": 34,
     "metadata": {},
     "output_type": "execute_result"
    }
   ],
   "source": [
    "pipeline_svc_us = Pipeline(\n",
    "    [\n",
    "        (\"vect\", TfidfVectorizer(stop_words=stopwords)),\n",
    "        (\"rus\", rus),\n",
    "        (\"clf\", SVC(random_state=RANDOM_STATE)),\n",
    "    ]\n",
    ")\n",
    "\n",
    "grid_svc_us = GridSearchCV(pipeline_svc_us, param_grid=params_svc, cv=3,  scoring='f1', n_jobs=-1)\n",
    "\n",
    "grid_svc_us.fit(X_train, y_train)\n",
    "best_result_svc_us = pd.DataFrame(grid_svc_us.cv_results_).sort_values('rank_test_score').head(1)\n",
    "best_result_svc_us = best_result_svc_us[['mean_fit_time', 'params', 'mean_test_score']]\n",
    "best_result_svc_us"
   ]
  },
  {
   "cell_type": "markdown",
   "metadata": {
    "id": "QR2oeZ7WCVGT"
   },
   "source": [
    "#### CatBoostClassifier"
   ]
  },
  {
   "cell_type": "code",
   "execution_count": 35,
   "metadata": {
    "id": "F2xOWU9cCVGU"
   },
   "outputs": [
    {
     "data": {
      "text/html": [
       "<div>\n",
       "<style scoped>\n",
       "    .dataframe tbody tr th:only-of-type {\n",
       "        vertical-align: middle;\n",
       "    }\n",
       "\n",
       "    .dataframe tbody tr th {\n",
       "        vertical-align: top;\n",
       "    }\n",
       "\n",
       "    .dataframe thead th {\n",
       "        text-align: right;\n",
       "    }\n",
       "</style>\n",
       "<table border=\"1\" class=\"dataframe\">\n",
       "  <thead>\n",
       "    <tr style=\"text-align: right;\">\n",
       "      <th></th>\n",
       "      <th>mean_fit_time</th>\n",
       "      <th>params</th>\n",
       "      <th>mean_test_score</th>\n",
       "    </tr>\n",
       "  </thead>\n",
       "  <tbody>\n",
       "    <tr>\n",
       "      <th>2</th>\n",
       "      <td>10747.166208</td>\n",
       "      <td>{'clf__max_depth': 10, 'clf__n_estimators': 3000}</td>\n",
       "      <td>0.723389</td>\n",
       "    </tr>\n",
       "  </tbody>\n",
       "</table>\n",
       "</div>"
      ],
      "text/plain": [
       "   mean_fit_time                                             params  \\\n",
       "2   10747.166208  {'clf__max_depth': 10, 'clf__n_estimators': 3000}   \n",
       "\n",
       "   mean_test_score  \n",
       "2         0.723389  "
      ]
     },
     "execution_count": 35,
     "metadata": {},
     "output_type": "execute_result"
    }
   ],
   "source": [
    "pipeline_ctbc_us = Pipeline(\n",
    "    [\n",
    "        (\"vect\", TfidfVectorizer(stop_words=stopwords)),\n",
    "        (\"rus\", rus),\n",
    "        (\"clf\", CatBoostClassifier(random_state=RANDOM_STATE, verbose=False)),\n",
    "    ]\n",
    ")\n",
    "\n",
    "grid_ctbc_us = GridSearchCV(pipeline_ctbc_us, param_grid=params_cb, cv=3, scoring='f1', n_jobs=-1)\n",
    "\n",
    "grid_ctbc_us.fit(X_train, y_train)\n",
    "best_result_ctbc_us = pd.DataFrame(grid_ctbc_us.cv_results_).sort_values('rank_test_score').head(1)\n",
    "best_result_ctbc_us = best_result_ctbc_us[['mean_fit_time', 'params', 'mean_test_score']]\n",
    "best_result_ctbc_us"
   ]
  },
  {
   "cell_type": "code",
   "execution_count": 36,
   "metadata": {
    "id": "uwztLH9yCVGW"
   },
   "outputs": [
    {
     "data": {
      "text/html": [
       "<div>\n",
       "<style scoped>\n",
       "    .dataframe tbody tr th:only-of-type {\n",
       "        vertical-align: middle;\n",
       "    }\n",
       "\n",
       "    .dataframe tbody tr th {\n",
       "        vertical-align: top;\n",
       "    }\n",
       "\n",
       "    .dataframe thead th {\n",
       "        text-align: right;\n",
       "    }\n",
       "</style>\n",
       "<table border=\"1\" class=\"dataframe\">\n",
       "  <thead>\n",
       "    <tr style=\"text-align: right;\">\n",
       "      <th></th>\n",
       "      <th>mean_fit_time</th>\n",
       "      <th>params</th>\n",
       "      <th>mean_test_score</th>\n",
       "    </tr>\n",
       "  </thead>\n",
       "  <tbody>\n",
       "    <tr>\n",
       "      <th>LogisticRegression_us</th>\n",
       "      <td>3.644104</td>\n",
       "      <td>{'clf__C': 1.0, 'clf__max_iter': 1500}</td>\n",
       "      <td>0.691396</td>\n",
       "    </tr>\n",
       "    <tr>\n",
       "      <th>RidgeClassifier_us</th>\n",
       "      <td>2.043500</td>\n",
       "      <td>{'clf__alpha': 9}</td>\n",
       "      <td>0.672335</td>\n",
       "    </tr>\n",
       "    <tr>\n",
       "      <th>SVC_us</th>\n",
       "      <td>34.028267</td>\n",
       "      <td>{'clf__C': 1, 'clf__gamma': 0.1, 'clf__kernel'...</td>\n",
       "      <td>0.716424</td>\n",
       "    </tr>\n",
       "    <tr>\n",
       "      <th>CatBoostClassifier_us</th>\n",
       "      <td>10747.166208</td>\n",
       "      <td>{'clf__max_depth': 10, 'clf__n_estimators': 3000}</td>\n",
       "      <td>0.723389</td>\n",
       "    </tr>\n",
       "  </tbody>\n",
       "</table>\n",
       "</div>"
      ],
      "text/plain": [
       "                       mean_fit_time  \\\n",
       "LogisticRegression_us       3.644104   \n",
       "RidgeClassifier_us          2.043500   \n",
       "SVC_us                     34.028267   \n",
       "CatBoostClassifier_us   10747.166208   \n",
       "\n",
       "                                                                  params  \\\n",
       "LogisticRegression_us             {'clf__C': 1.0, 'clf__max_iter': 1500}   \n",
       "RidgeClassifier_us                                     {'clf__alpha': 9}   \n",
       "SVC_us                 {'clf__C': 1, 'clf__gamma': 0.1, 'clf__kernel'...   \n",
       "CatBoostClassifier_us  {'clf__max_depth': 10, 'clf__n_estimators': 3000}   \n",
       "\n",
       "                       mean_test_score  \n",
       "LogisticRegression_us         0.691396  \n",
       "RidgeClassifier_us            0.672335  \n",
       "SVC_us                        0.716424  \n",
       "CatBoostClassifier_us         0.723389  "
      ]
     },
     "execution_count": 36,
     "metadata": {},
     "output_type": "execute_result"
    }
   ],
   "source": [
    "result_us = pd.concat([best_result_lg_us, best_result_rd_us, \n",
    "                       best_result_svc_us, best_result_ctbc_us])\n",
    "result_us.index = ['LogisticRegression_us', 'RidgeClassifier_us', \n",
    "                'SVC_us', 'CatBoostClassifier_us']\n",
    "result_us"
   ]
  },
  {
   "cell_type": "markdown",
   "metadata": {
    "id": "BGnj_MIQCVGW"
   },
   "source": [
    "When using undersampling, we got a higher learning rate, but lower results than when weighing classes, apparently this is due to a lack of data. Let's check the differently trained models on a test sample."
   ]
  },
  {
   "cell_type": "markdown",
   "metadata": {},
   "source": [
    "## Training results"
   ]
  },
  {
   "cell_type": "code",
   "execution_count": 37,
   "metadata": {
    "id": "Lq7SyyzMCVGW",
    "scrolled": true
   },
   "outputs": [
    {
     "data": {
      "text/html": [
       "<div>\n",
       "<style scoped>\n",
       "    .dataframe tbody tr th:only-of-type {\n",
       "        vertical-align: middle;\n",
       "    }\n",
       "\n",
       "    .dataframe tbody tr th {\n",
       "        vertical-align: top;\n",
       "    }\n",
       "\n",
       "    .dataframe thead th {\n",
       "        text-align: right;\n",
       "    }\n",
       "</style>\n",
       "<table border=\"1\" class=\"dataframe\">\n",
       "  <thead>\n",
       "    <tr style=\"text-align: right;\">\n",
       "      <th></th>\n",
       "      <th>mean_fit_time</th>\n",
       "      <th>params</th>\n",
       "      <th>mean_test_score</th>\n",
       "    </tr>\n",
       "  </thead>\n",
       "  <tbody>\n",
       "    <tr>\n",
       "      <th>CatBoostClassifier</th>\n",
       "      <td>39114.484902</td>\n",
       "      <td>{'clf__max_depth': 10, 'clf__n_estimators': 2000}</td>\n",
       "      <td>0.774215</td>\n",
       "    </tr>\n",
       "    <tr>\n",
       "      <th>CatBoostClassifier_us</th>\n",
       "      <td>10747.166208</td>\n",
       "      <td>{'clf__max_depth': 10, 'clf__n_estimators': 3000}</td>\n",
       "      <td>0.723389</td>\n",
       "    </tr>\n",
       "    <tr>\n",
       "      <th>LogisticRegression</th>\n",
       "      <td>7.994759</td>\n",
       "      <td>{'clf__C': 10.0, 'clf__max_iter': 2500}</td>\n",
       "      <td>0.764269</td>\n",
       "    </tr>\n",
       "    <tr>\n",
       "      <th>LogisticRegression_us</th>\n",
       "      <td>3.644104</td>\n",
       "      <td>{'clf__C': 1.0, 'clf__max_iter': 1500}</td>\n",
       "      <td>0.691396</td>\n",
       "    </tr>\n",
       "    <tr>\n",
       "      <th>RandomForestClassifier</th>\n",
       "      <td>2.153194</td>\n",
       "      <td>{'clf__alpha': 9}</td>\n",
       "      <td>0.710685</td>\n",
       "    </tr>\n",
       "    <tr>\n",
       "      <th>RidgeClassifier_us</th>\n",
       "      <td>2.043500</td>\n",
       "      <td>{'clf__alpha': 9}</td>\n",
       "      <td>0.672335</td>\n",
       "    </tr>\n",
       "    <tr>\n",
       "      <th>SVC</th>\n",
       "      <td>1945.626094</td>\n",
       "      <td>{'clf__C': 1, 'clf__gamma': 1, 'clf__kernel': ...</td>\n",
       "      <td>0.780259</td>\n",
       "    </tr>\n",
       "    <tr>\n",
       "      <th>SVC_us</th>\n",
       "      <td>34.028267</td>\n",
       "      <td>{'clf__C': 1, 'clf__gamma': 0.1, 'clf__kernel'...</td>\n",
       "      <td>0.716424</td>\n",
       "    </tr>\n",
       "  </tbody>\n",
       "</table>\n",
       "</div>"
      ],
      "text/plain": [
       "                        mean_fit_time  \\\n",
       "CatBoostClassifier       39114.484902   \n",
       "CatBoostClassifier_us    10747.166208   \n",
       "LogisticRegression           7.994759   \n",
       "LogisticRegression_us        3.644104   \n",
       "RandomForestClassifier       2.153194   \n",
       "RidgeClassifier_us           2.043500   \n",
       "SVC                       1945.626094   \n",
       "SVC_us                      34.028267   \n",
       "\n",
       "                                                                   params  \\\n",
       "CatBoostClassifier      {'clf__max_depth': 10, 'clf__n_estimators': 2000}   \n",
       "CatBoostClassifier_us   {'clf__max_depth': 10, 'clf__n_estimators': 3000}   \n",
       "LogisticRegression                {'clf__C': 10.0, 'clf__max_iter': 2500}   \n",
       "LogisticRegression_us              {'clf__C': 1.0, 'clf__max_iter': 1500}   \n",
       "RandomForestClassifier                                  {'clf__alpha': 9}   \n",
       "RidgeClassifier_us                                      {'clf__alpha': 9}   \n",
       "SVC                     {'clf__C': 1, 'clf__gamma': 1, 'clf__kernel': ...   \n",
       "SVC_us                  {'clf__C': 1, 'clf__gamma': 0.1, 'clf__kernel'...   \n",
       "\n",
       "                        mean_test_score  \n",
       "CatBoostClassifier             0.774215  \n",
       "CatBoostClassifier_us          0.723389  \n",
       "LogisticRegression             0.764269  \n",
       "LogisticRegression_us          0.691396  \n",
       "RandomForestClassifier         0.710685  \n",
       "RidgeClassifier_us             0.672335  \n",
       "SVC                            0.780259  \n",
       "SVC_us                         0.716424  "
      ]
     },
     "execution_count": 37,
     "metadata": {},
     "output_type": "execute_result"
    }
   ],
   "source": [
    "pd.concat([result, result_us]).sort_index()"
   ]
  },
  {
   "cell_type": "markdown",
   "metadata": {},
   "source": [
    "From the general dataframe with the results, it can be seen that the SVC and Catboost models showed the best results in both methods of dealing with class imbalances. Let's check all the models on a test sample."
   ]
  },
  {
   "cell_type": "markdown",
   "metadata": {},
   "source": [
    "## Testing models"
   ]
  },
  {
   "cell_type": "code",
   "execution_count": 38,
   "metadata": {
    "id": "x02d61BXCVGW",
    "scrolled": true
   },
   "outputs": [
    {
     "data": {
      "text/html": [
       "<div>\n",
       "<style scoped>\n",
       "    .dataframe tbody tr th:only-of-type {\n",
       "        vertical-align: middle;\n",
       "    }\n",
       "\n",
       "    .dataframe tbody tr th {\n",
       "        vertical-align: top;\n",
       "    }\n",
       "\n",
       "    .dataframe thead th {\n",
       "        text-align: right;\n",
       "    }\n",
       "</style>\n",
       "<table border=\"1\" class=\"dataframe\">\n",
       "  <thead>\n",
       "    <tr style=\"text-align: right;\">\n",
       "      <th></th>\n",
       "      <th>test_score</th>\n",
       "      <th>test_score_us</th>\n",
       "    </tr>\n",
       "  </thead>\n",
       "  <tbody>\n",
       "    <tr>\n",
       "      <th>LogisticRegression</th>\n",
       "      <td>0.762928</td>\n",
       "      <td>0.698785</td>\n",
       "    </tr>\n",
       "    <tr>\n",
       "      <th>RidgeClassifier</th>\n",
       "      <td>0.713568</td>\n",
       "      <td>0.677130</td>\n",
       "    </tr>\n",
       "    <tr>\n",
       "      <th>SVC</th>\n",
       "      <td>0.788999</td>\n",
       "      <td>0.725052</td>\n",
       "    </tr>\n",
       "    <tr>\n",
       "      <th>CatBoostClassifier</th>\n",
       "      <td>0.774827</td>\n",
       "      <td>0.734539</td>\n",
       "    </tr>\n",
       "  </tbody>\n",
       "</table>\n",
       "</div>"
      ],
      "text/plain": [
       "                    test_score  test_score_us\n",
       "LogisticRegression    0.762928       0.698785\n",
       "RidgeClassifier       0.713568       0.677130\n",
       "SVC                   0.788999       0.725052\n",
       "CatBoostClassifier    0.774827       0.734539"
      ]
     },
     "execution_count": 38,
     "metadata": {},
     "output_type": "execute_result"
    }
   ],
   "source": [
    "pd.DataFrame({'test_score':[f1_score(y_test, grid_lg.predict(X_test)),\n",
    "              f1_score(y_test, grid_rd.predict(X_test)),\n",
    "              f1_score(y_test, grid_svc.predict(X_test)),\n",
    "              f1_score(y_test, grid_ctbc.predict(X_test))],\n",
    "              'test_score_us':[f1_score(y_test, grid_lg_us.predict(X_test)),\n",
    "              f1_score(y_test, grid_rd_us.predict(X_test)),\n",
    "              f1_score(y_test, grid_svc_us.predict(X_test)),\n",
    "              f1_score(y_test, grid_ctbc_us.predict(X_test))]},\n",
    "            index=['LogisticRegression', 'RidgeClassifier',\n",
    "                   'SVC', 'CatBoostClassifier'])"
   ]
  },
  {
   "cell_type": "markdown",
   "metadata": {
    "id": "CTrkaZOdCVGW"
   },
   "source": [
    "According to the results of testing, the best model was the SVC with a score of 0.789. Let's build a confusion matrix and check the fpr and tpr."
   ]
  },
  {
   "cell_type": "code",
   "execution_count": 39,
   "metadata": {
    "id": "TTSlNYddCVGX"
   },
   "outputs": [
    {
     "data": {
      "image/png": "[encoded data removed]",
      "text/plain": [
       "<Figure size 432x288 with 2 Axes>"
      ]
     },
     "metadata": {
      "needs_background": "light"
     },
     "output_type": "display_data"
    }
   ],
   "source": [
    "ConfusionMatrixDisplay.from_predictions(y_test, grid_svc.predict(X_test),\n",
    "                                        display_labels=grid_svc.classes_, cmap='Blues',\n",
    "                                       normalize='true');"
   ]
  },
  {
   "cell_type": "markdown",
   "metadata": {
    "id": "54aps_pUCVGX"
   },
   "source": [
    "## Conclusion"
   ]
  },
  {
   "cell_type": "markdown",
   "metadata": {
    "id": "XN28TxQKCVGX"
   },
   "source": [
    "We conducted an analysis of the given dataset and found no missing values or duplicates. Next, we processed the text by lemmatizing the words and removing unnecessary elements. We transformed the reviews into vectors for training the model and making further predictions. Since the dataset had a significant class imbalance, we applied methods such as class weighting and undersampling using the majority class during training. However, models trained on the undersampled dataset yielded poorer results, indicating a lack of sufficient data. The best-performing model was the SVC (Support Vector Classifier) with an F1 score of 0.789.\n",
    "\n",
    "By constructing a confusion matrix, we can examine the model's performance in detail. It reveals that the model correctly predicts the minority class only in 72% of cases."
   ]
  },
  {
   "cell_type": "code",
   "execution_count": null,
   "metadata": {
    "id": "gW5KNk3OCVGX"
   },
   "outputs": [],
   "source": []
  }
 ],
 "metadata": {
  "colab": {
   "provenance": [],
   "toc_visible": true
  },
  "kernelspec": {
   "display_name": "Python 3 (ipykernel)",
   "language": "python",
   "name": "python3"
  },
  "language_info": {
   "codemirror_mode": {
    "name": "ipython",
    "version": 3
   },
   "file_extension": ".py",
   "mimetype": "text/x-python",
   "name": "python",
   "nbconvert_exporter": "python",
   "pygments_lexer": "ipython3",
   "version": "3.9.12"
  },
  "toc": {
   "base_numbering": 1,
   "nav_menu": {},
   "number_sections": true,
   "sideBar": true,
   "skip_h1_title": true,
   "title_cell": "Содержание",
   "title_sidebar": "Contents",
   "toc_cell": true,
   "toc_position": {
    "height": "calc(100% - 180px)",
    "left": "10px",
    "top": "150px",
    "width": "302.391px"
   },
   "toc_section_display": true,
   "toc_window_display": false
  },
  "varInspector": {
   "cols": {
    "lenName": 16,
    "lenType": 16,
    "lenVar": 40
   },
   "kernels_config": {
    "python": {
     "delete_cmd_postfix": "",
     "delete_cmd_prefix": "del ",
     "library": "var_list.py",
     "varRefreshCmd": "print(var_dic_list())"
    },
    "r": {
     "delete_cmd_postfix": ") ",
     "delete_cmd_prefix": "rm(",
     "library": "var_list.r",
     "varRefreshCmd": "cat(var_dic_list()) "
    }
   },
   "types_to_exclude": [
    "module",
    "function",
    "builtin_function_or_method",
    "instance",
    "_Feature"
   ],
   "window_display": false
  }
 },
 "nbformat": 4,
 "nbformat_minor": 1
}
